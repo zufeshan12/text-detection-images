{
 "cells": [
  {
   "cell_type": "code",
   "execution_count": null,
   "metadata": {
    "id": "B-nNaSlC9lrX"
   },
   "outputs": [],
   "source": [
    "!pip install pytesseract"
   ]
  },
  {
   "cell_type": "code",
   "execution_count": null,
   "metadata": {
    "id": "0mxUZYvV9jUj"
   },
   "outputs": [],
   "source": [
    "import cv2\n",
    "import pytesseract\n",
    "\n",
    "# Path to the Tesseract OCR executable\n",
    "pytesseract.pytesseract.tesseract_cmd = r\"C:\\Program Files\\Tesseract-OCR\\tesseract.exe\"\n",
    "\n",
    "# Path to the directory containing the images\n",
    "image_dir = \"/path/to/images\"\n",
    "\n",
    "# Function to extract text from an image\n",
    "def extract_text_from_image(image_path):\n",
    "    # Read the image using OpenCV\n",
    "    image = cv2.imread(image_path)\n",
    "\n",
    "    # Preprocess the image (if required)\n",
    "    # ...\n",
    "\n",
    "    # Convert the image to grayscale\n",
    "    gray_image = cv2.cvtColor(image, cv2.COLOR_BGR2GRAY)\n",
    "\n",
    "    # Perform OCR using Tesseract\n",
    "    text = pytesseract.image_to_string(gray_image)\n",
    "\n",
    "    return text\n",
    "\n",
    "# Process each image in the directory\n",
    "for image_file in os.listdir(image_dir):\n",
    "    if image_file.endswith(\".jpg\") or image_file.endswith(\".png\"):\n",
    "        image_path = os.path.join(image_dir, image_file)\n",
    "        extracted_text = extract_text_from_image(image_path)\n",
    "        print(f\"Image: {image_file}\")\n",
    "        print(f\"Extracted Text: {extracted_text}\")\n",
    "        print(\"--------------\")"
   ]
  },
  {
   "cell_type": "code",
   "execution_count": null,
   "metadata": {
    "id": "BMC-g29a9prA"
   },
   "outputs": [],
   "source": [
    "import os\n",
    "import keras_ocr\n",
    "import cv2\n",
    "\n",
    "# Path to the directory containing the images\n",
    "image_dir = \"/path/to/images\"\n",
    "\n",
    "# Load the Keras OCR pipeline\n",
    "pipeline = keras_ocr.pipeline.Pipeline()\n",
    "\n",
    "# Function to extract text from an image\n",
    "def extract_text_from_image(image_path):\n",
    "    # Read the image using OpenCV\n",
    "    image = cv2.imread(image_path)\n",
    "\n",
    "    # Perform OCR using Keras OCR\n",
    "    prediction_groups = pipeline.recognize([image])\n",
    "\n",
    "    # Extract the text from the predictions\n",
    "    predictions = prediction_groups[0]\n",
    "    extracted_text = ' '.join([word[0] for word in predictions])\n",
    "\n",
    "    return extracted_text\n",
    "\n",
    "# Process each image in the directory\n",
    "for image_file in os.listdir(image_dir):\n",
    "    if image_file.endswith(\".jpg\") or image_file.endswith(\".png\"):\n",
    "        image_path = os.path.join(image_dir, image_file)\n",
    "        extracted_text = extract_text_from_image(image_path)\n",
    "        print(f\"Image: {image_file}\")\n",
    "        print(f\"Extracted Text: {extracted_text}\")\n",
    "        print(\"--------------\")"
   ]
  },
  {
   "cell_type": "code",
   "execution_count": null,
   "metadata": {
    "id": "XJZbLpJn9pn3"
   },
   "outputs": [],
   "source": [
    "import os\n",
    "import keras_ocr\n",
    "import cv2\n",
    "\n",
    "# Path to the directory containing the training images\n",
    "train_image_dir = \"/path/to/training/images\"\n",
    "\n",
    "# Path to the directory containing the validation images\n",
    "val_image_dir = \"/path/to/validation/images\"\n",
    "\n",
    "# Prepare the training data\n",
    "train_data = []\n",
    "for image_file in os.listdir(train_image_dir):\n",
    "    if image_file.endswith(\".jpg\") or image_file.endswith(\".png\"):\n",
    "        image_path = os.path.join(train_image_dir, image_file)\n",
    "        train_data.append(image_path)\n",
    "\n",
    "# Prepare the validation data\n",
    "val_data = []\n",
    "for image_file in os.listdir(val_image_dir):\n",
    "    if image_file.endswith(\".jpg\") or image_file.endswith(\".png\"):\n",
    "        image_path = os.path.join(val_image_dir, image_file)\n",
    "        val_data.append(image_path)\n",
    "\n",
    "# Define the model architecture\n",
    "recognizer = keras_ocr.recognition.Recognizer()\n",
    "\n",
    "# Train the model\n",
    "recognizer.train(train_data, val_data)\n",
    "\n",
    "# Save the trained model\n",
    "recognizer.save('trained_model.h5')"
   ]
  },
  {
   "cell_type": "code",
   "execution_count": null,
   "metadata": {
    "id": "pSfWCvQo9pgz"
   },
   "outputs": [],
   "source": []
  }
 ],
 "metadata": {
  "colab": {
   "provenance": []
  },
  "kernelspec": {
   "display_name": "Python 3 (ipykernel)",
   "language": "python",
   "name": "python3"
  },
  "language_info": {
   "codemirror_mode": {
    "name": "ipython",
    "version": 3
   },
   "file_extension": ".py",
   "mimetype": "text/x-python",
   "name": "python",
   "nbconvert_exporter": "python",
   "pygments_lexer": "ipython3",
   "version": "3.10.11"
  }
 },
 "nbformat": 4,
 "nbformat_minor": 4
}
